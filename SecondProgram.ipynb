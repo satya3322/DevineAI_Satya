{
  "cells": [
    {
      "cell_type": "markdown",
      "metadata": {
        "id": "view-in-github",
        "colab_type": "text"
      },
      "source": [
        "<a href=\"https://colab.research.google.com/github/satya3322/DevineAI_Satya/blob/main/SecondProgram.ipynb\" target=\"_parent\"><img src=\"https://colab.research.google.com/assets/colab-badge.svg\" alt=\"Open In Colab\"/></a>"
      ]
    },
    {
      "cell_type": "code",
      "execution_count": null,
      "id": "4665eb2e",
      "metadata": {
        "id": "4665eb2e",
        "outputId": "a0d1590a-d6f3-4408-e1f8-fcd468fe1e65"
      },
      "outputs": [
        {
          "name": "stdout",
          "output_type": "stream",
          "text": [
            "Hello World\n"
          ]
        }
      ],
      "source": [
        "print('Hello World')"
      ]
    },
    {
      "cell_type": "code",
      "execution_count": null,
      "id": "20037ad4",
      "metadata": {
        "id": "20037ad4",
        "outputId": "c33141f2-7ca0-47c0-e039-82a33fc32407"
      },
      "outputs": [
        {
          "name": "stdout",
          "output_type": "stream",
          "text": [
            "C:\\Users\\satya\\DevineAI_Satya\\Python\n"
          ]
        }
      ],
      "source": [
        "import os\n",
        "print(os.getcwd())"
      ]
    },
    {
      "cell_type": "code",
      "execution_count": null,
      "id": "b7a9c322",
      "metadata": {
        "id": "b7a9c322",
        "outputId": "4e92e849-e6ae-4d40-c495-59026f4f4e65"
      },
      "outputs": [
        {
          "name": "stdout",
          "output_type": "stream",
          "text": [
            "Welcome to the DevineAI\n"
          ]
        }
      ],
      "source": [
        "print('Welcome to the DevineAI')"
      ]
    },
    {
      "cell_type": "code",
      "execution_count": null,
      "id": "f02ca5f9",
      "metadata": {
        "id": "f02ca5f9",
        "outputId": "b0ba26d5-2b3e-4325-8f5c-1e0d3cb70f30"
      },
      "outputs": [
        {
          "name": "stdout",
          "output_type": "stream",
          "text": [
            "Addition : 2+1 \n"
          ]
        },
        {
          "data": {
            "text/plain": [
              "3"
            ]
          },
          "execution_count": 9,
          "metadata": {},
          "output_type": "execute_result"
        }
      ],
      "source": [
        "#Addition\n",
        "print('Addition : 2+1 ')\n",
        "2+1"
      ]
    },
    {
      "cell_type": "code",
      "execution_count": null,
      "id": "2c7cfc66",
      "metadata": {
        "id": "2c7cfc66",
        "outputId": "a2a69c50-327f-48d7-b312-9b0ee1737a11"
      },
      "outputs": [
        {
          "name": "stdout",
          "output_type": "stream",
          "text": [
            "Substraction : 2-1 \n"
          ]
        },
        {
          "data": {
            "text/plain": [
              "1"
            ]
          },
          "execution_count": 10,
          "metadata": {},
          "output_type": "execute_result"
        }
      ],
      "source": [
        "#substraction\n",
        "print('Substraction : 2-1 ')\n",
        "2-1"
      ]
    },
    {
      "cell_type": "code",
      "execution_count": null,
      "id": "5f7f082c",
      "metadata": {
        "id": "5f7f082c",
        "outputId": "03b0bb49-1be0-4549-a7c5-6324a06413e3"
      },
      "outputs": [
        {
          "name": "stdout",
          "output_type": "stream",
          "text": [
            "Multiplication : 2*2 \n"
          ]
        },
        {
          "data": {
            "text/plain": [
              "4"
            ]
          },
          "execution_count": 11,
          "metadata": {},
          "output_type": "execute_result"
        }
      ],
      "source": [
        "#Multiplicaton\n",
        "print('Multiplication : 2*2 ')\n",
        "2*2"
      ]
    },
    {
      "cell_type": "code",
      "execution_count": null,
      "id": "e7ce27ef",
      "metadata": {
        "id": "e7ce27ef",
        "outputId": "6237e3f4-bad2-4442-c304-90425c3b273b"
      },
      "outputs": [
        {
          "name": "stdout",
          "output_type": "stream",
          "text": [
            "Divison : 6/2\n"
          ]
        },
        {
          "data": {
            "text/plain": [
              "3.0"
            ]
          },
          "execution_count": 12,
          "metadata": {},
          "output_type": "execute_result"
        }
      ],
      "source": [
        "#Divison\n",
        "print('Divison : 6/2')\n",
        "6/2"
      ]
    },
    {
      "cell_type": "code",
      "execution_count": null,
      "id": "e96fa215",
      "metadata": {
        "id": "e96fa215",
        "outputId": "0e651cf4-b783-4a2f-95e4-1d12753453ef"
      },
      "outputs": [
        {
          "name": "stdout",
          "output_type": "stream",
          "text": [
            "Floor Divison : 8//6\n"
          ]
        },
        {
          "data": {
            "text/plain": [
              "1"
            ]
          },
          "execution_count": 8,
          "metadata": {},
          "output_type": "execute_result"
        }
      ],
      "source": [
        "#Floor Divison\n",
        "print('Floor Divison : 8//6')\n",
        "8//6"
      ]
    },
    {
      "cell_type": "code",
      "execution_count": null,
      "id": "86175065",
      "metadata": {
        "id": "86175065",
        "outputId": "80f35d93-3c80-45c7-b88d-843eb60c88cc"
      },
      "outputs": [
        {
          "name": "stdout",
          "output_type": "stream",
          "text": [
            "Modulo : 6%4\n"
          ]
        },
        {
          "data": {
            "text/plain": [
              "2"
            ]
          },
          "execution_count": 10,
          "metadata": {},
          "output_type": "execute_result"
        }
      ],
      "source": [
        "#Modulo\n",
        "print('Modulo : 6%4')\n",
        "6%4"
      ]
    },
    {
      "cell_type": "code",
      "execution_count": null,
      "id": "bb1bb48d",
      "metadata": {
        "id": "bb1bb48d",
        "outputId": "e2ee3a7e-aa08-487c-9196-1a5220882712"
      },
      "outputs": [
        {
          "name": "stdout",
          "output_type": "stream",
          "text": [
            "powers : 3**4\n"
          ]
        },
        {
          "data": {
            "text/plain": [
              "81"
            ]
          },
          "execution_count": 11,
          "metadata": {},
          "output_type": "execute_result"
        }
      ],
      "source": [
        "#powers\n",
        "print('powers : 3**4')\n",
        "3**4"
      ]
    },
    {
      "cell_type": "code",
      "execution_count": null,
      "id": "d0b53789",
      "metadata": {
        "id": "d0b53789",
        "outputId": "30509287-8af7-4e37-b3e3-66b975e3b18b"
      },
      "outputs": [
        {
          "name": "stdout",
          "output_type": "stream",
          "text": [
            "roots : 3**4.0\n"
          ]
        },
        {
          "data": {
            "text/plain": [
              "81.0"
            ]
          },
          "execution_count": 12,
          "metadata": {},
          "output_type": "execute_result"
        }
      ],
      "source": [
        "# Can also do roots this way\n",
        "print('roots : 3**4.0')\n",
        "3**4.0"
      ]
    },
    {
      "cell_type": "code",
      "execution_count": null,
      "id": "3b69a6c9",
      "metadata": {
        "id": "3b69a6c9",
        "outputId": "d6186e6b-c5ba-46a3-b708-71cbf3d02593"
      },
      "outputs": [
        {
          "name": "stdout",
          "output_type": "stream",
          "text": [
            "evalution : 1 + 2 * 3 + 4\n"
          ]
        },
        {
          "data": {
            "text/plain": [
              "11"
            ]
          },
          "execution_count": 16,
          "metadata": {},
          "output_type": "execute_result"
        }
      ],
      "source": [
        "#Operations followed in Python\n",
        "print('evalution : 1 + 2 * 3 + 4')\n",
        "1 + 2 * 3 + 4"
      ]
    },
    {
      "cell_type": "code",
      "execution_count": null,
      "id": "c92b525d",
      "metadata": {
        "id": "c92b525d",
        "outputId": "3612d664-800d-4008-ab2f-f10222316fba"
      },
      "outputs": [
        {
          "name": "stdout",
          "output_type": "stream",
          "text": [
            "parentheses : (2 + 5) * (3 + 6)\n"
          ]
        },
        {
          "data": {
            "text/plain": [
              "63"
            ]
          },
          "execution_count": 17,
          "metadata": {},
          "output_type": "execute_result"
        }
      ],
      "source": [
        "#parentheses to specify orders\n",
        "print('parentheses : (2 + 5) * (3 + 6)')\n",
        "(2 + 5) * (3 + 6)"
      ]
    },
    {
      "cell_type": "code",
      "execution_count": null,
      "id": "a1480c67",
      "metadata": {
        "id": "a1480c67"
      },
      "outputs": [],
      "source": [
        "# Let's create an object called \"a\" and assign it the number 6\n",
        "a = 6"
      ]
    },
    {
      "cell_type": "code",
      "execution_count": null,
      "id": "243f9127",
      "metadata": {
        "id": "243f9127",
        "outputId": "a169f1e3-1e64-4458-bdf7-007bb3d46251"
      },
      "outputs": [
        {
          "data": {
            "text/plain": [
              "12"
            ]
          },
          "execution_count": 19,
          "metadata": {},
          "output_type": "execute_result"
        }
      ],
      "source": [
        "a+a"
      ]
    },
    {
      "cell_type": "code",
      "execution_count": null,
      "id": "f04f6841",
      "metadata": {
        "id": "f04f6841"
      },
      "outputs": [],
      "source": [
        "# Reassignment\n",
        "a=12"
      ]
    },
    {
      "cell_type": "code",
      "execution_count": null,
      "id": "759f12d3",
      "metadata": {
        "id": "759f12d3",
        "outputId": "0f1d9233-534f-488b-a5a8-5a9e40ea0852"
      },
      "outputs": [
        {
          "data": {
            "text/plain": [
              "12"
            ]
          },
          "execution_count": 21,
          "metadata": {},
          "output_type": "execute_result"
        }
      ],
      "source": [
        "a"
      ]
    },
    {
      "cell_type": "code",
      "execution_count": null,
      "id": "32bf3405",
      "metadata": {
        "id": "32bf3405"
      },
      "outputs": [],
      "source": [
        "a=6"
      ]
    },
    {
      "cell_type": "code",
      "execution_count": null,
      "id": "eb5881c6",
      "metadata": {
        "id": "eb5881c6",
        "outputId": "c2cec96e-0cb7-4ed6-85af-8f20ab487ba7"
      },
      "outputs": [
        {
          "data": {
            "text/plain": [
              "6"
            ]
          },
          "execution_count": 23,
          "metadata": {},
          "output_type": "execute_result"
        }
      ],
      "source": [
        "a"
      ]
    },
    {
      "cell_type": "code",
      "execution_count": null,
      "id": "324d9820",
      "metadata": {
        "id": "324d9820"
      },
      "outputs": [],
      "source": [
        "a=12"
      ]
    },
    {
      "cell_type": "code",
      "execution_count": null,
      "id": "39a41dd6",
      "metadata": {
        "id": "39a41dd6",
        "outputId": "efe6b439-c05b-4934-8823-c0f72a529feb"
      },
      "outputs": [
        {
          "data": {
            "text/plain": [
              "12"
            ]
          },
          "execution_count": 25,
          "metadata": {},
          "output_type": "execute_result"
        }
      ],
      "source": [
        "# Check\n",
        "a"
      ]
    },
    {
      "cell_type": "code",
      "execution_count": null,
      "id": "7b9f9d66",
      "metadata": {
        "id": "7b9f9d66"
      },
      "outputs": [],
      "source": [
        "a=12"
      ]
    },
    {
      "cell_type": "code",
      "execution_count": null,
      "id": "ed06e4ae",
      "metadata": {
        "id": "ed06e4ae"
      },
      "outputs": [],
      "source": [
        "# Use A to redefine A\n",
        "a=a+a"
      ]
    },
    {
      "cell_type": "code",
      "execution_count": null,
      "id": "f40eaf4c",
      "metadata": {
        "id": "f40eaf4c",
        "outputId": "e7a34127-8c33-4ab8-defe-a9e5387d6943"
      },
      "outputs": [
        {
          "data": {
            "text/plain": [
              "24"
            ]
          },
          "execution_count": 34,
          "metadata": {},
          "output_type": "execute_result"
        }
      ],
      "source": [
        "a"
      ]
    },
    {
      "cell_type": "code",
      "execution_count": null,
      "id": "db9d1c17",
      "metadata": {
        "id": "db9d1c17"
      },
      "outputs": [],
      "source": [
        "# Use object names to keep better track of what's going on in your code!\n",
        "Income = 1000\n",
        "tax_rate = 0.1\n",
        "tax = Income*tax_rate"
      ]
    },
    {
      "cell_type": "code",
      "execution_count": null,
      "id": "43e5658a",
      "metadata": {
        "id": "43e5658a",
        "outputId": "c73f0088-5d65-4e9c-abdd-f97f689f0ca2"
      },
      "outputs": [
        {
          "data": {
            "text/plain": [
              "100.0"
            ]
          },
          "execution_count": 48,
          "metadata": {},
          "output_type": "execute_result"
        }
      ],
      "source": [
        "tax"
      ]
    },
    {
      "cell_type": "code",
      "execution_count": null,
      "id": "b79ac613",
      "metadata": {
        "id": "b79ac613"
      },
      "outputs": [],
      "source": [
        ""
      ]
    },
    {
      "cell_type": "code",
      "execution_count": null,
      "id": "0bd1e71e",
      "metadata": {
        "id": "0bd1e71e"
      },
      "outputs": [],
      "source": [
        ""
      ]
    },
    {
      "cell_type": "code",
      "execution_count": null,
      "id": "09b81cf1",
      "metadata": {
        "id": "09b81cf1"
      },
      "outputs": [],
      "source": [
        ""
      ]
    }
  ],
  "metadata": {
    "kernelspec": {
      "display_name": "Python 3 (ipykernel)",
      "language": "python",
      "name": "python3"
    },
    "language_info": {
      "codemirror_mode": {
        "name": "ipython",
        "version": 3
      },
      "file_extension": ".py",
      "mimetype": "text/x-python",
      "name": "python",
      "nbconvert_exporter": "python",
      "pygments_lexer": "ipython3",
      "version": "3.9.7"
    },
    "colab": {
      "name": "SecondProgram.ipynb",
      "provenance": [],
      "include_colab_link": true
    }
  },
  "nbformat": 4,
  "nbformat_minor": 5
}